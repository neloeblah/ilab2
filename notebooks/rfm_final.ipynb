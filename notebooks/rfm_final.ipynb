{
 "cells": [
  {
   "cell_type": "code",
   "execution_count": 63,
   "id": "efc3008b",
   "metadata": {},
   "outputs": [],
   "source": [
    "# RFM (Recency, Frequency, Monetary/Value model) \n",
    "# XGBoost Version\n",
    "\n",
    "import datetime\n",
    "import os\n",
    "import shap\n",
    "import numpy as np\n",
    "import pandas as pd\n",
    "import xgboost as xgb\n",
    "\n",
    "from sklearn.metrics import mean_squared_error\n",
    "from sklearn.model_selection import train_test_split\n",
    "from sklearn.preprocessing import StandardScaler"
   ]
  },
  {
   "cell_type": "code",
   "execution_count": 40,
   "id": "ef40772d",
   "metadata": {},
   "outputs": [],
   "source": [
    "# Loop individual json files \n",
    "# Assumes json files have been downloaded from saved as csv files\n",
    "\n",
    "data_dir = './data/'\n",
    "file_list = [file for file in os.listdir(data_dir) if file.endswith('.csv')]\n",
    "file_list = [file for file in file_list if (file != 'activities.csv') & (file !='total_df.csv')]"
   ]
  },
  {
   "cell_type": "code",
   "execution_count": 51,
   "id": "45b048e4",
   "metadata": {},
   "outputs": [],
   "source": [
    "def csv_processing(path, file_name):\n",
    "    \"\"\"\n",
    "        Perform cleaning steps and aggregate each data file (i.e. daily statistics) by user. \n",
    "        Returns pandas dataframe. \n",
    "    \"\"\"\n",
    "    \n",
    "    # Load\n",
    "    df = pd.read_csv(path + file_name)\n",
    "\n",
    "    # Cleaning\n",
    "    df['actorId'] = df['actorId'].str.split('/').str[-1]\n",
    "    df['verb'] = df['verb'].str.split('/').str[-1]\n",
    "    df['type'] = df['type'].str.split('/').str[-1]\n",
    "    df['Time Zone'] = df['Time Zone'].str.split('/').str[-1]\n",
    "    df['ancestors_depth'] = df['ancestors'].str.split(\"depth': \").str[-1].str.split(\"}\").str[0].astype(int)\n",
    "    df['other_depth'] = df['other'].str.split(\"depth': \").str[-1].str.split(\"}\").str[0]\n",
    "    df['other_depth'] = df['other_depth'].fillna(0).astype(int)\n",
    "    df['rating_score'] = df['rating'].fillna(3)\n",
    "    df['rating_bool'] = np.where(df['rating'].isna(), 0, 1)\n",
    "    df['response'] = np.where(df['response'].isna(), 0, 1)\n",
    "\n",
    "    # Filter features\n",
    "    cols = ['actorId', 'verb', 'type', 'activity', 'ancestors_depth', 'duration', 'completion', \n",
    "             'Is Manager', 'Is New Starter', 'Time Zone', 'rating_score', 'rating_bool', 'other_depth', 'response']\n",
    "    df = df[cols]\n",
    "\n",
    "    # Aggregate to actorId level\n",
    "    actor_df = df.groupby('actorId').agg({'activity': 'count',\n",
    "                                          'verb': 'nunique',\n",
    "                                          'type': 'nunique',\n",
    "                                          'ancestors_depth': 'sum',\n",
    "                                          'duration': 'sum',\n",
    "                                          'completion': 'sum',\n",
    "                                          'Is Manager': 'last',\n",
    "                                          'Is New Starter': 'first',\n",
    "                                          'Time Zone': 'last',\n",
    "                                          'rating_score': 'mean',\n",
    "                                          'rating_bool': 'sum',\n",
    "                                          'other_depth': 'sum',\n",
    "                                          'response': 'sum'\n",
    "                                          }).reset_index()\n",
    "\n",
    "    actor_df['date'] = file_name.replace('.csv', '')\n",
    "\n",
    "    return actor_df"
   ]
  },
  {
   "cell_type": "code",
   "execution_count": 61,
   "id": "5c647c9b",
   "metadata": {},
   "outputs": [],
   "source": [
    "def convert_monthly(df):\n",
    "    \"\"\"\n",
    "        Converts previously loaded daily user data into monthly aggregations for model training.\n",
    "        Includes seasonality calculations. \n",
    "        Returns pandas dataframe.\n",
    "    \"\"\"\n",
    "    \n",
    "    # Aggregation\n",
    "    df['month'] = pd.to_datetime(df['date']).dt.month\n",
    "    month_df = df.groupby(['month', 'actorId']).agg({'date': 'max',\n",
    "                                                     'activity': 'sum',\n",
    "                                                     'verb': 'sum',\n",
    "                                                     'type': 'sum',\n",
    "                                                     'ancestors_depth': 'sum',\n",
    "                                                     'duration': ['sum', 'std', 'mean', 'max', 'min'],\n",
    "                                                     'completion': 'sum',\n",
    "                                                     'Is Manager': 'last',\n",
    "                                                     'Is New Starter': 'first',\n",
    "                                                     'Time Zone': 'last',\n",
    "                                                     'rating_score': 'mean',\n",
    "                                                     'rating_bool': 'sum',\n",
    "                                                     'other_depth': 'sum',\n",
    "                                                     'response': 'sum'\n",
    "                                                     }).reset_index()\n",
    "    \n",
    "    # Cleaning\n",
    "    month_df.columns = ['month', 'actorId', 'date', 'activity', 'verb', 'type', 'ancestors_depth', \n",
    "                        'duration_sum', 'duration_std', 'duration_mean', 'duration_max', 'duration_min', \n",
    "                        'completion', 'Is Manager', 'Is New Starter', 'Time Zone', 'rating_score', \n",
    "                        'rating_bool', 'other_depth', 'response'] \n",
    "    month_df['duration_std'] = month_df['duration_std'].fillna(0)\n",
    "    month_df['date'] = pd.to_datetime(month_df['date'])\n",
    "    \n",
    "    # Seasonality Variables\n",
    "    month_df['month_sin'] = np.sin((month_df['month'] - 1)*(2.*np.pi/12))\n",
    "    month_df['month_cos'] = np.cos((month_df['month'] - 1)*(2.*np.pi/12))\n",
    "    \n",
    "    \n",
    "    return month_df"
   ]
  },
  {
   "cell_type": "code",
   "execution_count": 64,
   "id": "658bed78",
   "metadata": {},
   "outputs": [],
   "source": [
    "def get_date_range():\n",
    "    \"\"\"\n",
    "        Creates a list of end of month dates. This helps with the creation of model training datasets\n",
    "          to model monthly as well as ensure only past data is used to make future predictions. \n",
    "        Returns list. \n",
    "    \"\"\"\n",
    "    dates = [datetime.date(2021, x, 1) - datetime.timedelta(days=1) for x in range(8, 13)] \n",
    "    dates = dates + [datetime.date(2022, x, 1) - datetime.timedelta(days=1) for x in range(1, 8)]\n",
    "    dates = [pd.to_datetime(x) for x in dates]\n",
    "    \n",
    "    return dates"
   ]
  },
  {
   "cell_type": "code",
   "execution_count": 73,
   "id": "9c4f2585",
   "metadata": {},
   "outputs": [],
   "source": [
    "def create_training_set(df, dates):\n",
    "    \"\"\"\n",
    "        Takes monthly converted data and dates list, and creates a dataset suitable for model training.\n",
    "        Ensures past data is matched with future target variables, avoiding biased predictions. \n",
    "        Returns pandas dataframe. \n",
    "    \"\"\"\n",
    "    \n",
    "    data_transform = []\n",
    "\n",
    "    for x, y in zip(dates[:-1], dates[1:]):\n",
    "        feature_filter = df['date'] <= x\n",
    "        label_filter = (df['date'] > x) & (df['date'] <= y)\n",
    "\n",
    "        features = df.loc[feature_filter]\n",
    "        labels = df.loc[label_filter, ['actorId', 'completion']]\n",
    "        \n",
    "        # Categorical Encoding\n",
    "        zones = features.groupby('Time Zone')['completion'].mean().to_dict()         \n",
    "        \n",
    "        # Feature engineering\n",
    "        features = features.groupby('actorId').agg({'date': 'max', \n",
    "                                                    'activity': 'sum',\n",
    "                                                    'verb': 'sum',\n",
    "                                                    'type': 'sum',\n",
    "                                                    'ancestors_depth': 'sum',\n",
    "                                                    'duration_sum': 'sum',\n",
    "                                                    'duration_std': 'mean',\n",
    "                                                    'duration_mean': 'mean',\n",
    "                                                    'duration_max': 'max',\n",
    "                                                    'duration_min': 'min',\n",
    "                                                    'Is Manager': 'last',\n",
    "                                                    'Is New Starter': 'last',\n",
    "                                                    'Time Zone': 'last',\n",
    "                                                    'rating_score': 'mean',\n",
    "                                                    'rating_bool': 'sum',\n",
    "                                                    'other_depth': 'sum',\n",
    "                                                    'month_sin': 'last',\n",
    "                                                    'month_cos': 'last'}).reset_index()\n",
    "        features['recency'] = (x - features['date']).dt.days\n",
    "        features['Is Manager'] = np.where(features['Is Manager'] == 'Y', 1, 0)\n",
    "        features['Is New Starter'] = np.where(features['Is New Starter'] == 'Y', 1, 0)\n",
    "        features['Time Zone'] = features['Time Zone'].map(zones) \n",
    "        \n",
    "        features = features[['actorId', 'recency', 'activity', 'verb', 'type', 'ancestors_depth',\n",
    "                             'duration_sum', 'duration_std', 'duration_mean', 'duration_max', 'duration_min', \n",
    "                             'Is Manager', 'Is New Starter', 'Time Zone', 'rating_score', 'rating_bool',\n",
    "                             'other_depth', 'month_sin', 'month_cos']]\n",
    "\n",
    "        # Merge features with t+1 labels\n",
    "        new_data = pd.merge(left=features,\n",
    "                            right=labels,\n",
    "                            how='left',\n",
    "                            on='actorId')\n",
    "        new_data['completion'].fillna(0, inplace=True)\n",
    "\n",
    "        data_transform.append(new_data)\n",
    "\n",
    "    df_transform = pd.concat(data_transform)\n",
    "    \n",
    "    return df_transform"
   ]
  },
  {
   "cell_type": "code",
   "execution_count": 66,
   "id": "9f6a7ac8",
   "metadata": {},
   "outputs": [
    {
     "name": "stderr",
     "output_type": "stream",
     "text": [
      "Columns (15) have mixed types.Specify dtype option on import or set low_memory=False.\n",
      "Columns (12,15) have mixed types.Specify dtype option on import or set low_memory=False.\n"
     ]
    },
    {
     "data": {
      "text/html": [
       "<div>\n",
       "<style scoped>\n",
       "    .dataframe tbody tr th:only-of-type {\n",
       "        vertical-align: middle;\n",
       "    }\n",
       "\n",
       "    .dataframe tbody tr th {\n",
       "        vertical-align: top;\n",
       "    }\n",
       "\n",
       "    .dataframe thead th {\n",
       "        text-align: right;\n",
       "    }\n",
       "</style>\n",
       "<table border=\"1\" class=\"dataframe\">\n",
       "  <thead>\n",
       "    <tr style=\"text-align: right;\">\n",
       "      <th></th>\n",
       "      <th>actorId</th>\n",
       "      <th>activity</th>\n",
       "      <th>verb</th>\n",
       "      <th>type</th>\n",
       "      <th>ancestors_depth</th>\n",
       "      <th>duration</th>\n",
       "      <th>completion</th>\n",
       "      <th>Is Manager</th>\n",
       "      <th>Is New Starter</th>\n",
       "      <th>Time Zone</th>\n",
       "      <th>rating_score</th>\n",
       "      <th>rating_bool</th>\n",
       "      <th>other_depth</th>\n",
       "      <th>response</th>\n",
       "      <th>date</th>\n",
       "    </tr>\n",
       "  </thead>\n",
       "  <tbody>\n",
       "    <tr>\n",
       "      <th>0</th>\n",
       "      <td>+BKJ+UoRTBgHEYyaRNFMmEZTDtlhPMn7A==</td>\n",
       "      <td>15</td>\n",
       "      <td>3</td>\n",
       "      <td>0</td>\n",
       "      <td>8</td>\n",
       "      <td>191584</td>\n",
       "      <td>3.0</td>\n",
       "      <td>Y</td>\n",
       "      <td>N</td>\n",
       "      <td>Sydney</td>\n",
       "      <td>3.0</td>\n",
       "      <td>0</td>\n",
       "      <td>0</td>\n",
       "      <td>0</td>\n",
       "      <td>2021-07-01</td>\n",
       "    </tr>\n",
       "    <tr>\n",
       "      <th>1</th>\n",
       "      <td>+L2a3zEmWxYQ==</td>\n",
       "      <td>6</td>\n",
       "      <td>3</td>\n",
       "      <td>2</td>\n",
       "      <td>2</td>\n",
       "      <td>36941</td>\n",
       "      <td>2.0</td>\n",
       "      <td>N</td>\n",
       "      <td>N</td>\n",
       "      <td>Sydney</td>\n",
       "      <td>3.0</td>\n",
       "      <td>0</td>\n",
       "      <td>0</td>\n",
       "      <td>0</td>\n",
       "      <td>2021-07-01</td>\n",
       "    </tr>\n",
       "    <tr>\n",
       "      <th>2</th>\n",
       "      <td>+NyLRujuLiWC18B1AifgVVIH0DVSJ88TpGdA==</td>\n",
       "      <td>6</td>\n",
       "      <td>2</td>\n",
       "      <td>0</td>\n",
       "      <td>8</td>\n",
       "      <td>216127</td>\n",
       "      <td>0.0</td>\n",
       "      <td>Y</td>\n",
       "      <td>N</td>\n",
       "      <td>Perth</td>\n",
       "      <td>3.0</td>\n",
       "      <td>0</td>\n",
       "      <td>0</td>\n",
       "      <td>0</td>\n",
       "      <td>2021-07-01</td>\n",
       "    </tr>\n",
       "    <tr>\n",
       "      <th>3</th>\n",
       "      <td>+RTyb9OmKVwMcCVQDHIiVgV4KlEPgkk1CA==</td>\n",
       "      <td>2</td>\n",
       "      <td>2</td>\n",
       "      <td>0</td>\n",
       "      <td>1</td>\n",
       "      <td>37</td>\n",
       "      <td>0.0</td>\n",
       "      <td>Y</td>\n",
       "      <td>N</td>\n",
       "      <td>Perth</td>\n",
       "      <td>3.0</td>\n",
       "      <td>0</td>\n",
       "      <td>0</td>\n",
       "      <td>0</td>\n",
       "      <td>2021-07-01</td>\n",
       "    </tr>\n",
       "    <tr>\n",
       "      <th>4</th>\n",
       "      <td>+X0MyKnIFWAxRR9oNE0bbz5AE2A+s3gENg==</td>\n",
       "      <td>5</td>\n",
       "      <td>4</td>\n",
       "      <td>1</td>\n",
       "      <td>1</td>\n",
       "      <td>12842</td>\n",
       "      <td>2.0</td>\n",
       "      <td>N</td>\n",
       "      <td>N</td>\n",
       "      <td>Brisbane</td>\n",
       "      <td>3.0</td>\n",
       "      <td>0</td>\n",
       "      <td>0</td>\n",
       "      <td>0</td>\n",
       "      <td>2021-07-01</td>\n",
       "    </tr>\n",
       "  </tbody>\n",
       "</table>\n",
       "</div>"
      ],
      "text/plain": [
       "                                  actorId  activity  verb  type  \\\n",
       "0     +BKJ+UoRTBgHEYyaRNFMmEZTDtlhPMn7A==        15     3     0   \n",
       "1                          +L2a3zEmWxYQ==         6     3     2   \n",
       "2  +NyLRujuLiWC18B1AifgVVIH0DVSJ88TpGdA==         6     2     0   \n",
       "3    +RTyb9OmKVwMcCVQDHIiVgV4KlEPgkk1CA==         2     2     0   \n",
       "4    +X0MyKnIFWAxRR9oNE0bbz5AE2A+s3gENg==         5     4     1   \n",
       "\n",
       "   ancestors_depth  duration  completion Is Manager Is New Starter Time Zone  \\\n",
       "0                8    191584         3.0          Y              N    Sydney   \n",
       "1                2     36941         2.0          N              N    Sydney   \n",
       "2                8    216127         0.0          Y              N     Perth   \n",
       "3                1        37         0.0          Y              N     Perth   \n",
       "4                1     12842         2.0          N              N  Brisbane   \n",
       "\n",
       "   rating_score  rating_bool  other_depth  response        date  \n",
       "0           3.0            0            0         0  2021-07-01  \n",
       "1           3.0            0            0         0  2021-07-01  \n",
       "2           3.0            0            0         0  2021-07-01  \n",
       "3           3.0            0            0         0  2021-07-01  \n",
       "4           3.0            0            0         0  2021-07-01  "
      ]
     },
     "execution_count": 66,
     "metadata": {},
     "output_type": "execute_result"
    }
   ],
   "source": [
    "# Load individual date csv's and merge dataframe\n",
    "data = [csv_processing(data_dir, x) for x in file_list]\n",
    "df = pd.concat(data)\n",
    "df.head()"
   ]
  },
  {
   "cell_type": "code",
   "execution_count": 67,
   "id": "f297b0f8",
   "metadata": {},
   "outputs": [],
   "source": [
    "# Convert to monthly data\n",
    "dates = get_date_range()\n",
    "month_df = convert_monthly(df)"
   ]
  },
  {
   "cell_type": "code",
   "execution_count": 74,
   "id": "8088562d",
   "metadata": {},
   "outputs": [],
   "source": [
    "# Create training set \n",
    "model_dataset = create_training_set(month_df, dates)"
   ]
  },
  {
   "cell_type": "code",
   "execution_count": 75,
   "id": "c90adc7e",
   "metadata": {},
   "outputs": [],
   "source": [
    "# Train/Test split\n",
    "cols = [x for x in model_dataset.columns if (x != 'completion') & (x != 'actorId')]\n",
    "X = model_dataset[cols]\n",
    "y = model_dataset[['completion']].values.reshape(-1)\n",
    "\n",
    "X_train, X_test, y_train, y_test = train_test_split(X, y, test_size=0.2, random_state=42)"
   ]
  },
  {
   "cell_type": "code",
   "execution_count": 76,
   "id": "ec5631f7",
   "metadata": {},
   "outputs": [],
   "source": [
    "# Scale data for improved modeling\n",
    "norm = StandardScaler().fit(X_train)\n",
    "X_train_norm = norm.transform(X_train)\n",
    "X_test_norm = norm.transform(X_test)"
   ]
  },
  {
   "cell_type": "code",
   "execution_count": 77,
   "id": "db81b539",
   "metadata": {},
   "outputs": [],
   "source": [
    "# Convert data to XGBoost format to improve training speeds.  \n",
    "dtrain = xgb.DMatrix(data=X_train, label=y_train)\n",
    "dtest =  xgb.DMatrix(data=X_test, label=y_test)"
   ]
  },
  {
   "cell_type": "code",
   "execution_count": 92,
   "id": "44e91f3b",
   "metadata": {},
   "outputs": [
    {
     "name": "stdout",
     "output_type": "stream",
     "text": [
      "[00:32:55] WARNING: C:\\Windows\\Temp\\abs_557yfx631l\\croots\\recipe\\xgboost-split_1659548953302\\work\\src\\learner.cc:576: \n",
      "Parameters: { \"max_features\" } might not be used.\n",
      "\n",
      "  This could be a false alarm, with some parameters getting used by language bindings but\n",
      "  then being mistakenly passed down to XGBoost core, or some parameter actually being used\n",
      "  but getting flagged wrongly here. Please open an issue if you find any such cases.\n",
      "\n",
      "\n"
     ]
    }
   ],
   "source": [
    "# Train model\n",
    "xg_params = {'objective': 'reg:squarederror',\n",
    "             'booster': 'gbtree',\n",
    "             'learning_rate': 0.1,\n",
    "             'max_depth': 6, \n",
    "             'eval_metric': 'rmse',\n",
    "             'seed': 42}\n",
    "xg_fit = xgb.train(xg_params, dtrain, num_boost_round=200)"
   ]
  },
  {
   "cell_type": "code",
   "execution_count": 93,
   "id": "2eb42f64",
   "metadata": {},
   "outputs": [
    {
     "name": "stdout",
     "output_type": "stream",
     "text": [
      "Train RMSE: 15.298188093497359, Test RMSE: 16.203149060013647\n"
     ]
    }
   ],
   "source": [
    "# Evaluation\n",
    "preds_train = xg_fit.predict(dtrain)\n",
    "preds_test = xg_fit.predict(dtest)\n",
    "\n",
    "train_rmse = mean_squared_error(y_train, preds_train) ** 0.5\n",
    "test_rmse = mean_squared_error(y_test, preds_test) ** 0.5\n",
    "\n",
    "print(f\"Train RMSE: {train_rmse}, Test RMSE: {test_rmse}\")"
   ]
  },
  {
   "cell_type": "code",
   "execution_count": 103,
   "id": "dba3a89c",
   "metadata": {},
   "outputs": [
    {
     "data": {
      "image/png": "[encoded data removed]",
      "text/plain": [
       "<Figure size 576x396 with 2 Axes>"
      ]
     },
     "metadata": {
      "needs_background": "light"
     },
     "output_type": "display_data"
    }
   ],
   "source": [
    "# Feature importance\n",
    "explainer = shap.Explainer(xg_fit)\n",
    "shap_values = explainer(X_test)\n",
    "shap.plots.beeswarm(shap_values)"
   ]
  },
  {
   "cell_type": "code",
   "execution_count": 104,
   "id": "5e3c7e8e",
   "metadata": {},
   "outputs": [
    {
     "data": {
      "image/png": "[encoded data removed]",
      "text/plain": [
       "<Figure size 576x468 with 1 Axes>"
      ]
     },
     "metadata": {},
     "output_type": "display_data"
    }
   ],
   "source": [
    "shap.plots.bar(shap_values)"
   ]
  }
 ],
 "metadata": {
  "kernelspec": {
   "display_name": "Python 3",
   "language": "python",
   "name": "python3"
  },
  "language_info": {
   "codemirror_mode": {
    "name": "ipython",
    "version": 3
   },
   "file_extension": ".py",
   "mimetype": "text/x-python",
   "name": "python",
   "nbconvert_exporter": "python",
   "pygments_lexer": "ipython3",
   "version": "3.7.10"
  }
 },
 "nbformat": 4,
 "nbformat_minor": 5
}
