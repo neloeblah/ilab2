{
 "cells": [
  {
   "cell_type": "code",
   "execution_count": 1,
   "id": "efc3008b",
   "metadata": {},
   "outputs": [],
   "source": [
    "# RFM (Recency, Frequency, Monetary/Value model)\n",
    "\n",
    "import datetime\n",
    "import os\n",
    "import numpy as np\n",
    "import pandas as pd\n",
    "\n",
    "from sklearn.ensemble import RandomForestRegressor\n",
    "from sklearn.model_selection import train_test_split\n",
    "from sklearn.metrics import mean_squared_error\n",
    "from sklearn.model_selection import RandomizedSearchCV\n",
    "from sklearn.preprocessing import StandardScaler"
   ]
  },
  {
   "cell_type": "code",
   "execution_count": 2,
   "id": "cf7668de",
   "metadata": {},
   "outputs": [],
   "source": [
    "def load_file(path, file_name):\n",
    "    df = pd.read_csv(path + file_name)\n",
    "    \n",
    "    cols = ['activity', 'duration', 'completion', 'Is Manager']\n",
    "    actor_df = df.groupby('actorId')[cols].agg({'activity': 'count',\n",
    "                                                'duration': 'sum',\n",
    "                                                'completion': 'sum',\n",
    "                                                'Is Manager': 'last'\n",
    "                                                }).reset_index()\n",
    "    \n",
    "    actor_df['actorId'] = actor_df['actorId'].str.split('|').str[-1]\n",
    "    actor_df['date'] = file_name.replace('.csv', '')\n",
    "\n",
    "    return actor_df"
   ]
  },
  {
   "cell_type": "code",
   "execution_count": 3,
   "id": "c658bfa6",
   "metadata": {},
   "outputs": [],
   "source": [
    "# Loop individual json files\n",
    "data_dir = './data/'\n",
    "file_list = [file for file in os.listdir(data_dir) if file.endswith('.csv')]\n",
    "file_list = [file for file in file_list if file != 'activities.csv']\n",
    "# file_list = file_list[:30]"
   ]
  },
  {
   "cell_type": "code",
   "execution_count": 4,
   "id": "ceab4647",
   "metadata": {},
   "outputs": [
    {
     "name": "stderr",
     "output_type": "stream",
     "text": [
      "C:\\Users\\mnelo\\anaconda3\\envs\\py_cpu\\lib\\site-packages\\IPython\\core\\interactiveshell.py:3437: DtypeWarning: Columns (15) have mixed types.Specify dtype option on import or set low_memory=False.\n",
      "  exec(code_obj, self.user_global_ns, self.user_ns)\n",
      "C:\\Users\\mnelo\\anaconda3\\envs\\py_cpu\\lib\\site-packages\\IPython\\core\\interactiveshell.py:3437: DtypeWarning: Columns (12,15) have mixed types.Specify dtype option on import or set low_memory=False.\n",
      "  exec(code_obj, self.user_global_ns, self.user_ns)\n"
     ]
    }
   ],
   "source": [
    "data = [load_file(data_dir, x) for x in file_list]"
   ]
  },
  {
   "cell_type": "code",
   "execution_count": 5,
   "id": "c1ca1a9b",
   "metadata": {},
   "outputs": [],
   "source": [
    "df = pd.concat(data)"
   ]
  },
  {
   "cell_type": "code",
   "execution_count": 6,
   "id": "7a2da315",
   "metadata": {},
   "outputs": [
    {
     "data": {
      "text/html": [
       "<div>\n",
       "<style scoped>\n",
       "    .dataframe tbody tr th:only-of-type {\n",
       "        vertical-align: middle;\n",
       "    }\n",
       "\n",
       "    .dataframe tbody tr th {\n",
       "        vertical-align: top;\n",
       "    }\n",
       "\n",
       "    .dataframe thead th {\n",
       "        text-align: right;\n",
       "    }\n",
       "</style>\n",
       "<table border=\"1\" class=\"dataframe\">\n",
       "  <thead>\n",
       "    <tr style=\"text-align: right;\">\n",
       "      <th></th>\n",
       "      <th>actorId</th>\n",
       "      <th>activity</th>\n",
       "      <th>duration</th>\n",
       "      <th>completion</th>\n",
       "      <th>Is Manager</th>\n",
       "      <th>date</th>\n",
       "    </tr>\n",
       "  </thead>\n",
       "  <tbody>\n",
       "    <tr>\n",
       "      <th>0</th>\n",
       "      <td>00030190-dcc0-11ea-892f-13bace717482</td>\n",
       "      <td>20</td>\n",
       "      <td>321363</td>\n",
       "      <td>0.0</td>\n",
       "      <td>N</td>\n",
       "      <td>2021-07-01</td>\n",
       "    </tr>\n",
       "    <tr>\n",
       "      <th>1</th>\n",
       "      <td>00082fb1414f9f1513402b02ee0fbc703bc30418c4be55...</td>\n",
       "      <td>1</td>\n",
       "      <td>832</td>\n",
       "      <td>1.0</td>\n",
       "      <td>N</td>\n",
       "      <td>2021-07-01</td>\n",
       "    </tr>\n",
       "    <tr>\n",
       "      <th>2</th>\n",
       "      <td>003e7061b23d9b921a4d3500105e76e848c65572f160e4...</td>\n",
       "      <td>22</td>\n",
       "      <td>93299</td>\n",
       "      <td>13.0</td>\n",
       "      <td>N</td>\n",
       "      <td>2021-07-01</td>\n",
       "    </tr>\n",
       "    <tr>\n",
       "      <th>3</th>\n",
       "      <td>004dd7c1cd54a30e42cdd675f8ca6734361eeeaf65c708...</td>\n",
       "      <td>2</td>\n",
       "      <td>6158</td>\n",
       "      <td>0.0</td>\n",
       "      <td>N</td>\n",
       "      <td>2021-07-01</td>\n",
       "    </tr>\n",
       "    <tr>\n",
       "      <th>4</th>\n",
       "      <td>00553ab7ac5ea7881594583157d965b82f85dc5820c31b...</td>\n",
       "      <td>4</td>\n",
       "      <td>18846</td>\n",
       "      <td>0.0</td>\n",
       "      <td>N</td>\n",
       "      <td>2021-07-01</td>\n",
       "    </tr>\n",
       "  </tbody>\n",
       "</table>\n",
       "</div>"
      ],
      "text/plain": [
       "                                             actorId  activity  duration  \\\n",
       "0               00030190-dcc0-11ea-892f-13bace717482        20    321363   \n",
       "1  00082fb1414f9f1513402b02ee0fbc703bc30418c4be55...         1       832   \n",
       "2  003e7061b23d9b921a4d3500105e76e848c65572f160e4...        22     93299   \n",
       "3  004dd7c1cd54a30e42cdd675f8ca6734361eeeaf65c708...         2      6158   \n",
       "4  00553ab7ac5ea7881594583157d965b82f85dc5820c31b...         4     18846   \n",
       "\n",
       "   completion Is Manager        date  \n",
       "0         0.0          N  2021-07-01  \n",
       "1         1.0          N  2021-07-01  \n",
       "2        13.0          N  2021-07-01  \n",
       "3         0.0          N  2021-07-01  \n",
       "4         0.0          N  2021-07-01  "
      ]
     },
     "execution_count": 6,
     "metadata": {},
     "output_type": "execute_result"
    }
   ],
   "source": [
    "df.head()"
   ]
  },
  {
   "cell_type": "code",
   "execution_count": 7,
   "id": "5d135f53",
   "metadata": {},
   "outputs": [],
   "source": [
    "# Convert to monthly signals\n",
    "df['month'] = pd.to_datetime(df['date']).dt.month\n",
    "month_df = df.groupby(['month', 'actorId']).agg({'date': 'max',\n",
    "                                                 'activity': 'count',\n",
    "                                                 'duration': 'sum',\n",
    "                                                 'completion': 'sum',\n",
    "                                                 'Is Manager': 'last'}).reset_index()"
   ]
  },
  {
   "cell_type": "code",
   "execution_count": 8,
   "id": "cab53b7c",
   "metadata": {},
   "outputs": [],
   "source": [
    "# Transform month for cyclical feature\n",
    "month_df['month_sin'] = np.sin((month_df['month'] - 1)*(2.*np.pi/12))\n",
    "month_df['month_cos'] = np.cos((month_df['month'] - 1)*(2.*np.pi/12))\n",
    "month_df['date'] = pd.to_datetime(month_df['date'])"
   ]
  },
  {
   "cell_type": "code",
   "execution_count": 9,
   "id": "1ee61901",
   "metadata": {},
   "outputs": [
    {
     "data": {
      "text/html": [
       "<div>\n",
       "<style scoped>\n",
       "    .dataframe tbody tr th:only-of-type {\n",
       "        vertical-align: middle;\n",
       "    }\n",
       "\n",
       "    .dataframe tbody tr th {\n",
       "        vertical-align: top;\n",
       "    }\n",
       "\n",
       "    .dataframe thead th {\n",
       "        text-align: right;\n",
       "    }\n",
       "</style>\n",
       "<table border=\"1\" class=\"dataframe\">\n",
       "  <thead>\n",
       "    <tr style=\"text-align: right;\">\n",
       "      <th></th>\n",
       "      <th>month</th>\n",
       "      <th>actorId</th>\n",
       "      <th>date</th>\n",
       "      <th>activity</th>\n",
       "      <th>duration</th>\n",
       "      <th>completion</th>\n",
       "      <th>Is Manager</th>\n",
       "      <th>month_sin</th>\n",
       "      <th>month_cos</th>\n",
       "    </tr>\n",
       "  </thead>\n",
       "  <tbody>\n",
       "    <tr>\n",
       "      <th>242834</th>\n",
       "      <td>5</td>\n",
       "      <td>++9x+R2W6d3bmO29wJLkvMKT77vDkeC+Xyj8LA==</td>\n",
       "      <td>2022-05-31</td>\n",
       "      <td>3</td>\n",
       "      <td>498009</td>\n",
       "      <td>15.0</td>\n",
       "      <td>N</td>\n",
       "      <td>8.660254e-01</td>\n",
       "      <td>-5.000000e-01</td>\n",
       "    </tr>\n",
       "    <tr>\n",
       "      <th>526029</th>\n",
       "      <td>9</td>\n",
       "      <td>++IXItP1roBROE0cZzVGHGI0SBRsPEgWm1AsEQ==</td>\n",
       "      <td>2021-09-29</td>\n",
       "      <td>2</td>\n",
       "      <td>399042</td>\n",
       "      <td>5.0</td>\n",
       "      <td>N</td>\n",
       "      <td>-8.660254e-01</td>\n",
       "      <td>-5.000000e-01</td>\n",
       "    </tr>\n",
       "    <tr>\n",
       "      <th>599388</th>\n",
       "      <td>10</td>\n",
       "      <td>++IXItP1roBROE0cZzVGHGI0SBRsPEgWm1AsEQ==</td>\n",
       "      <td>2021-10-26</td>\n",
       "      <td>3</td>\n",
       "      <td>524836</td>\n",
       "      <td>16.0</td>\n",
       "      <td>N</td>\n",
       "      <td>-1.000000e+00</td>\n",
       "      <td>-1.836970e-16</td>\n",
       "    </tr>\n",
       "    <tr>\n",
       "      <th>189779</th>\n",
       "      <td>4</td>\n",
       "      <td>++IXItP1roBROE0cZzVGHGI0SBRsPEgWm1AsEQ==</td>\n",
       "      <td>2022-04-24</td>\n",
       "      <td>1</td>\n",
       "      <td>23590</td>\n",
       "      <td>0.0</td>\n",
       "      <td>N</td>\n",
       "      <td>1.000000e+00</td>\n",
       "      <td>6.123234e-17</td>\n",
       "    </tr>\n",
       "    <tr>\n",
       "      <th>385245</th>\n",
       "      <td>7</td>\n",
       "      <td>++R0/LJbYJhMnOm4wpjqvceV47XOmOm3OvGNvw==</td>\n",
       "      <td>2021-07-17</td>\n",
       "      <td>3</td>\n",
       "      <td>256667</td>\n",
       "      <td>4.0</td>\n",
       "      <td>N</td>\n",
       "      <td>1.224647e-16</td>\n",
       "      <td>-1.000000e+00</td>\n",
       "    </tr>\n",
       "  </tbody>\n",
       "</table>\n",
       "</div>"
      ],
      "text/plain": [
       "        month                                   actorId       date  activity  \\\n",
       "242834      5  ++9x+R2W6d3bmO29wJLkvMKT77vDkeC+Xyj8LA== 2022-05-31         3   \n",
       "526029      9  ++IXItP1roBROE0cZzVGHGI0SBRsPEgWm1AsEQ== 2021-09-29         2   \n",
       "599388     10  ++IXItP1roBROE0cZzVGHGI0SBRsPEgWm1AsEQ== 2021-10-26         3   \n",
       "189779      4  ++IXItP1roBROE0cZzVGHGI0SBRsPEgWm1AsEQ== 2022-04-24         1   \n",
       "385245      7  ++R0/LJbYJhMnOm4wpjqvceV47XOmOm3OvGNvw== 2021-07-17         3   \n",
       "\n",
       "        duration  completion Is Manager     month_sin     month_cos  \n",
       "242834    498009        15.0          N  8.660254e-01 -5.000000e-01  \n",
       "526029    399042         5.0          N -8.660254e-01 -5.000000e-01  \n",
       "599388    524836        16.0          N -1.000000e+00 -1.836970e-16  \n",
       "189779     23590         0.0          N  1.000000e+00  6.123234e-17  \n",
       "385245    256667         4.0          N  1.224647e-16 -1.000000e+00  "
      ]
     },
     "execution_count": 9,
     "metadata": {},
     "output_type": "execute_result"
    }
   ],
   "source": [
    "month_df.sort_values(['actorId', 'date'], inplace=True)\n",
    "month_df.head()"
   ]
  },
  {
   "cell_type": "code",
   "execution_count": 10,
   "id": "5e475a3a",
   "metadata": {},
   "outputs": [
    {
     "data": {
      "text/plain": [
       "[Timestamp('2021-07-31 00:00:00'),\n",
       " Timestamp('2021-08-31 00:00:00'),\n",
       " Timestamp('2021-09-30 00:00:00'),\n",
       " Timestamp('2021-10-31 00:00:00'),\n",
       " Timestamp('2021-11-30 00:00:00'),\n",
       " Timestamp('2021-12-31 00:00:00'),\n",
       " Timestamp('2022-01-31 00:00:00'),\n",
       " Timestamp('2022-02-28 00:00:00'),\n",
       " Timestamp('2022-03-31 00:00:00'),\n",
       " Timestamp('2022-04-30 00:00:00'),\n",
       " Timestamp('2022-05-31 00:00:00'),\n",
       " Timestamp('2022-06-30 00:00:00')]"
      ]
     },
     "execution_count": 10,
     "metadata": {},
     "output_type": "execute_result"
    }
   ],
   "source": [
    "dates = [datetime.date(2021, x, 1) - datetime.timedelta(days=1) for x in range(8, 13)] \n",
    "dates = dates + [datetime.date(2022, x, 1) - datetime.timedelta(days=1) for x in range(1, 8)]\n",
    "dates = [pd.to_datetime(x) for x in dates]\n",
    "dates"
   ]
  },
  {
   "cell_type": "code",
   "execution_count": 11,
   "id": "6ffc9f5f",
   "metadata": {},
   "outputs": [],
   "source": [
    "data_transform = []\n",
    "\n",
    "for x, y in zip(dates[:-1], dates[1:]):\n",
    "    feature_filter = month_df['date'] <= x\n",
    "    label_filter = (month_df['date'] > x) & (month_df['date'] <= y)\n",
    "    \n",
    "    features = month_df.loc[feature_filter]\n",
    "    labels = month_df.loc[label_filter, ['actorId', 'completion']]\n",
    "    \n",
    "    # Feature engineering\n",
    "    features = features.groupby('actorId').agg({'date': 'max', \n",
    "                                                'activity': 'sum', \n",
    "                                                'duration': 'sum', \n",
    "                                                'Is Manager': 'last',\n",
    "                                                'month_sin': 'last',\n",
    "                                                'month_cos': 'last'}).reset_index()\n",
    "    features['recency'] = (x - features['date']).dt.days\n",
    "    features['manager'] = np.where(features['Is Manager'] == 'Y', 1, 0)\n",
    "    features = features[['actorId', 'recency', 'activity', 'duration', 'manager', 'month_sin', 'month_cos']]\n",
    "    \n",
    "    # Merge with t+1 labels\n",
    "    new_data = pd.merge(left=features,\n",
    "                        right=labels,\n",
    "                        how='left',\n",
    "                        on='actorId')\n",
    "    new_data['completion'].fillna(0, inplace=True)\n",
    "    \n",
    "    data_transform.append(new_data)\n",
    "    \n",
    "df_transform = pd.concat(data_transform)"
   ]
  },
  {
   "cell_type": "code",
   "execution_count": 12,
   "id": "e6986d14",
   "metadata": {},
   "outputs": [
    {
     "data": {
      "text/html": [
       "<div>\n",
       "<style scoped>\n",
       "    .dataframe tbody tr th:only-of-type {\n",
       "        vertical-align: middle;\n",
       "    }\n",
       "\n",
       "    .dataframe tbody tr th {\n",
       "        vertical-align: top;\n",
       "    }\n",
       "\n",
       "    .dataframe thead th {\n",
       "        text-align: right;\n",
       "    }\n",
       "</style>\n",
       "<table border=\"1\" class=\"dataframe\">\n",
       "  <thead>\n",
       "    <tr style=\"text-align: right;\">\n",
       "      <th></th>\n",
       "      <th>actorId</th>\n",
       "      <th>recency</th>\n",
       "      <th>activity</th>\n",
       "      <th>duration</th>\n",
       "      <th>manager</th>\n",
       "      <th>month_sin</th>\n",
       "      <th>month_cos</th>\n",
       "      <th>completion</th>\n",
       "    </tr>\n",
       "  </thead>\n",
       "  <tbody>\n",
       "    <tr>\n",
       "      <th>0</th>\n",
       "      <td>++R0/LJbYJhMnOm4wpjqvceV47XOmOm3OvGNvw==</td>\n",
       "      <td>14</td>\n",
       "      <td>3</td>\n",
       "      <td>256667</td>\n",
       "      <td>0</td>\n",
       "      <td>1.224647e-16</td>\n",
       "      <td>-1.0</td>\n",
       "      <td>0.0</td>\n",
       "    </tr>\n",
       "    <tr>\n",
       "      <th>1</th>\n",
       "      <td>++URvSHxYSVFVyJzCFsqdQlbL3kGUCF/8jlFdw==</td>\n",
       "      <td>26</td>\n",
       "      <td>2</td>\n",
       "      <td>29792</td>\n",
       "      <td>1</td>\n",
       "      <td>1.224647e-16</td>\n",
       "      <td>-1.0</td>\n",
       "      <td>3.0</td>\n",
       "    </tr>\n",
       "    <tr>\n",
       "      <th>2</th>\n",
       "      <td>+/1xMsbUkzW4u86e47HHneW+zpLsv8yScwTQGw==</td>\n",
       "      <td>3</td>\n",
       "      <td>3</td>\n",
       "      <td>871526</td>\n",
       "      <td>0</td>\n",
       "      <td>1.224647e-16</td>\n",
       "      <td>-1.0</td>\n",
       "      <td>2.0</td>\n",
       "    </tr>\n",
       "    <tr>\n",
       "      <th>3</th>\n",
       "      <td>+/Dj4o6M7FkESTxtGU06Zx9NPmIYSjBu4yhUaQ==</td>\n",
       "      <td>25</td>\n",
       "      <td>1</td>\n",
       "      <td>518194</td>\n",
       "      <td>0</td>\n",
       "      <td>1.224647e-16</td>\n",
       "      <td>-1.0</td>\n",
       "      <td>0.0</td>\n",
       "    </tr>\n",
       "    <tr>\n",
       "      <th>4</th>\n",
       "      <td>+/Sa03htBsFXqt+O9K7dgf6r34jxoteJBM+zjg==</td>\n",
       "      <td>0</td>\n",
       "      <td>2</td>\n",
       "      <td>159410</td>\n",
       "      <td>0</td>\n",
       "      <td>1.224647e-16</td>\n",
       "      <td>-1.0</td>\n",
       "      <td>0.0</td>\n",
       "    </tr>\n",
       "  </tbody>\n",
       "</table>\n",
       "</div>"
      ],
      "text/plain": [
       "                                    actorId  recency  activity  duration  \\\n",
       "0  ++R0/LJbYJhMnOm4wpjqvceV47XOmOm3OvGNvw==       14         3    256667   \n",
       "1  ++URvSHxYSVFVyJzCFsqdQlbL3kGUCF/8jlFdw==       26         2     29792   \n",
       "2  +/1xMsbUkzW4u86e47HHneW+zpLsv8yScwTQGw==        3         3    871526   \n",
       "3  +/Dj4o6M7FkESTxtGU06Zx9NPmIYSjBu4yhUaQ==       25         1    518194   \n",
       "4  +/Sa03htBsFXqt+O9K7dgf6r34jxoteJBM+zjg==        0         2    159410   \n",
       "\n",
       "   manager     month_sin  month_cos  completion  \n",
       "0        0  1.224647e-16       -1.0         0.0  \n",
       "1        1  1.224647e-16       -1.0         3.0  \n",
       "2        0  1.224647e-16       -1.0         2.0  \n",
       "3        0  1.224647e-16       -1.0         0.0  \n",
       "4        0  1.224647e-16       -1.0         0.0  "
      ]
     },
     "execution_count": 12,
     "metadata": {},
     "output_type": "execute_result"
    }
   ],
   "source": [
    "df_transform.head()"
   ]
  },
  {
   "cell_type": "code",
   "execution_count": 13,
   "id": "11bde2f4",
   "metadata": {},
   "outputs": [],
   "source": [
    "# Train/Test split\n",
    "X = df_transform[['recency', 'activity', 'duration', 'manager', 'month_sin', 'month_cos']]\n",
    "y = df_transform[['completion']].values.reshape(-1)\n",
    "\n",
    "test_size = 0.2\n",
    "X_train, X_test, y_train, y_test = train_test_split(X, y, test_size=test_size, random_state=42)"
   ]
  },
  {
   "cell_type": "code",
   "execution_count": 14,
   "id": "0d559743",
   "metadata": {},
   "outputs": [],
   "source": [
    "# Feature scaling\n",
    "norm = StandardScaler().fit(X_train)\n",
    "X_train_norm = norm.transform(X_train)\n",
    "X_test_norm = norm.transform(X_test)"
   ]
  },
  {
   "cell_type": "code",
   "execution_count": 15,
   "id": "dac0aa69",
   "metadata": {},
   "outputs": [],
   "source": [
    "def evaluate_model(rf, X_train, y_train, X_test, y_test):\n",
    "    # Predictions\n",
    "    predictions = pd.DataFrame()\n",
    "    predictions['true'] = y_train\n",
    "    predictions['preds'] = rf.predict(X_train)\n",
    "\n",
    "    predictions_test = pd.DataFrame()\n",
    "    predictions_test['true'] = y_test\n",
    "    predictions_test['preds'] = rf.predict(X_test)\n",
    "    \n",
    "    # Evaluation\n",
    "    train_rmse = mean_squared_error(predictions.true, predictions.preds) ** 0.5\n",
    "    test_rmse = mean_squared_error(predictions_test.true, predictions_test.preds) ** 0.5\n",
    "\n",
    "    print(f\"Train RMSE: {train_rmse}, Test RMSE: {test_rmse}\")"
   ]
  },
  {
   "cell_type": "code",
   "execution_count": 117,
   "id": "118f9578",
   "metadata": {},
   "outputs": [],
   "source": [
    "# Fit model\n",
    "rf = RandomForestRegressor().fit(X_train, y_train)"
   ]
  },
  {
   "cell_type": "code",
   "execution_count": 119,
   "id": "02ab3017",
   "metadata": {},
   "outputs": [
    {
     "name": "stdout",
     "output_type": "stream",
     "text": [
      "Train RMSE: 6.411795259868778, Test RMSE: 17.070324982822264\n"
     ]
    }
   ],
   "source": [
    "evaluate_model(rf, X_train, y_train, X_test, y_test)"
   ]
  },
  {
   "cell_type": "code",
   "execution_count": 120,
   "id": "1d8e785b",
   "metadata": {},
   "outputs": [],
   "source": [
    "# Hyperparameter turning\n",
    "### VERY SLOW\n",
    "n_estimators = [100, 500, 1000, 2000]\n",
    "max_depth = [None, 2, 4, 6, 8, 10]\n",
    "max_features = ['auto', 'sqrt']\n",
    "min_samples_split = [2, 5, 10]\n",
    "min_samples_leaf = [1, 2, 4]\n",
    "bootstrap = [True, False]\n",
    "\n",
    "random_grid = {'n_estimators': n_estimators,\n",
    "               'max_features': max_features,\n",
    "               'max_depth': max_depth,\n",
    "               'min_samples_split': min_samples_split,\n",
    "               'min_samples_leaf': min_samples_leaf,\n",
    "               'bootstrap': bootstrap}\n",
    "\n",
    "rf_random = RandomizedSearchCV(estimator = rf, param_distributions = random_grid,\n",
    "               n_iter = 100, cv = 5, verbose=2, random_state=42, n_jobs = -1)"
   ]
  },
  {
   "cell_type": "code",
   "execution_count": null,
   "id": "4e0adefd",
   "metadata": {},
   "outputs": [
    {
     "name": "stdout",
     "output_type": "stream",
     "text": [
      "Fitting 5 folds for each of 100 candidates, totalling 500 fits\n"
     ]
    }
   ],
   "source": [
    "rf_random.fit(X_train, y_train)"
   ]
  },
  {
   "cell_type": "code",
   "execution_count": 17,
   "id": "1a157d35",
   "metadata": {},
   "outputs": [
    {
     "name": "stdout",
     "output_type": "stream",
     "text": [
      "Train RMSE: 15.877138665338167, Test RMSE: 15.918603286261106\n"
     ]
    }
   ],
   "source": [
    "# Random parameters\n",
    "rf_rand = RandomForestRegressor(n_estimators=1000,\n",
    "                                max_depth=6,\n",
    "                                min_samples_split=5).fit(X_train, y_train)\n",
    "evaluate_model(rf_rand, X_train, y_train, X_test, y_test)"
   ]
  },
  {
   "cell_type": "code",
   "execution_count": 89,
   "id": "db8d6e2a",
   "metadata": {},
   "outputs": [],
   "source": [
    "from sklearn.inspection import permutation_importance"
   ]
  },
  {
   "cell_type": "code",
   "execution_count": 90,
   "id": "e124122d",
   "metadata": {},
   "outputs": [],
   "source": [
    "result = permutation_importance(rf_rand, X_test, y_test, n_repeats=10, random_state=42, n_jobs=2)\n",
    "sorted_importances_idx = result.importances_mean.argsort()\n",
    "importances = pd.DataFrame(result.importances[sorted_importances_idx].T,\n",
    "                           columns=X.columns[sorted_importances_idx])"
   ]
  },
  {
   "cell_type": "code",
   "execution_count": 92,
   "id": "b9aec912",
   "metadata": {},
   "outputs": [
    {
     "data": {
      "image/png": "[encoded data removed]",
      "text/plain": [
       "<Figure size 432x288 with 1 Axes>"
      ]
     },
     "metadata": {
      "needs_background": "light"
     },
     "output_type": "display_data"
    }
   ],
   "source": [
    "ax = importances.plot.box(vert=False, whis=10)\n",
    "ax.set_title(\"Permutation Importances (test set)\")\n",
    "ax.axvline(x=0, color=\"k\", linestyle=\"--\")\n",
    "ax.set_xlabel(\"Decrease in accuracy score\")\n",
    "ax.figure.tight_layout()"
   ]
  },
  {
   "cell_type": "code",
   "execution_count": 21,
   "id": "b68ea7a0",
   "metadata": {},
   "outputs": [],
   "source": [
    "import xgboost as xgb"
   ]
  },
  {
   "cell_type": "code",
   "execution_count": 28,
   "id": "91e0057b",
   "metadata": {},
   "outputs": [],
   "source": [
    "dtrain = xgb.DMatrix(data=X_train, label=y_train)\n",
    "dtest =  xgb.DMatrix(data=X_test, label=y_test)"
   ]
  },
  {
   "cell_type": "code",
   "execution_count": 75,
   "id": "f658009c",
   "metadata": {},
   "outputs": [],
   "source": [
    "xg_params = {'objective': 'reg:squarederror',\n",
    "             'booster': 'gbtree',\n",
    "             'learning_rate': 0.1,\n",
    "             'max_depth': 6, \n",
    "             'max_features': 'sqrt',\n",
    "             'eval_metric': 'rmse',\n",
    "             'seed': 42}"
   ]
  },
  {
   "cell_type": "code",
   "execution_count": 80,
   "id": "a35cfc91",
   "metadata": {},
   "outputs": [
    {
     "name": "stdout",
     "output_type": "stream",
     "text": [
      "[15:38:48] WARNING: C:\\Windows\\Temp\\abs_557yfx631l\\croots\\recipe\\xgboost-split_1659548953302\\work\\src\\learner.cc:576: \n",
      "Parameters: { \"max_features\" } might not be used.\n",
      "\n",
      "  This could be a false alarm, with some parameters getting used by language bindings but\n",
      "  then being mistakenly passed down to XGBoost core, or some parameter actually being used\n",
      "  but getting flagged wrongly here. Please open an issue if you find any such cases.\n",
      "\n",
      "\n"
     ]
    }
   ],
   "source": [
    "xg_fit = xgb.train(xg_params, dtrain, num_boost_round=100)"
   ]
  },
  {
   "cell_type": "code",
   "execution_count": 81,
   "id": "2894d7ad",
   "metadata": {},
   "outputs": [
    {
     "name": "stdout",
     "output_type": "stream",
     "text": [
      "Train RMSE: 15.624955303958346, Test RMSE: 15.83826331215991\n"
     ]
    }
   ],
   "source": [
    "preds_train = xg_fit.predict(dtrain)\n",
    "preds_test = xg_fit.predict(dtest)\n",
    "\n",
    "train_rmse = mean_squared_error(y_train, preds_train) ** 0.5\n",
    "test_rmse = mean_squared_error(y_test, preds_test) ** 0.5\n",
    "\n",
    "print(f\"Train RMSE: {train_rmse}, Test RMSE: {test_rmse}\")"
   ]
  },
  {
   "cell_type": "code",
   "execution_count": 85,
   "id": "97898470",
   "metadata": {},
   "outputs": [
    {
     "data": {
      "text/plain": [
       "<shap.explainers._tree.Tree at 0x25a65339fc8>"
      ]
     },
     "execution_count": 85,
     "metadata": {},
     "output_type": "execute_result"
    }
   ],
   "source": [
    "import shap"
   ]
  },
  {
   "cell_type": "code",
   "execution_count": 86,
   "id": "6df15cb0",
   "metadata": {},
   "outputs": [],
   "source": [
    "explainer = shap.TreeExplainer(xg_fit)\n",
    "shap_values = explainer.shap_values(X_test)"
   ]
  },
  {
   "cell_type": "code",
   "execution_count": 87,
   "id": "6298b7df",
   "metadata": {},
   "outputs": [
    {
     "data": {
      "image/png": "[encoded data removed]",
      "text/plain": [
       "<Figure size 576x280.8 with 1 Axes>"
      ]
     },
     "metadata": {
      "needs_background": "light"
     },
     "output_type": "display_data"
    }
   ],
   "source": [
    "shap.summary_plot(shap_values, X_test, plot_type=\"bar\")"
   ]
  },
  {
   "cell_type": "code",
   "execution_count": null,
   "id": "eb5f87a8",
   "metadata": {},
   "outputs": [],
   "source": []
  }
 ],
 "metadata": {
  "kernelspec": {
   "display_name": "Python 3",
   "language": "python",
   "name": "python3"
  },
  "language_info": {
   "codemirror_mode": {
    "name": "ipython",
    "version": 3
   },
   "file_extension": ".py",
   "mimetype": "text/x-python",
   "name": "python",
   "nbconvert_exporter": "python",
   "pygments_lexer": "ipython3",
   "version": "3.7.10"
  }
 },
 "nbformat": 4,
 "nbformat_minor": 5
}
