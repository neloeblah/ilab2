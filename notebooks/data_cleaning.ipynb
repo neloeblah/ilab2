{
 "cells": [
  {
   "cell_type": "code",
   "execution_count": 7,
   "id": "196276e6",
   "metadata": {},
   "outputs": [],
   "source": [
    "import ast\n",
    "import os\n",
    "import time\n",
    "\n",
    "import pandas as pd\n",
    "import numpy as np"
   ]
  },
  {
   "cell_type": "code",
   "execution_count": 8,
   "id": "f612a078",
   "metadata": {},
   "outputs": [],
   "source": [
    "def explode_dictionary(df, col_name, replace=False):\n",
    "    \"\"\"\n",
    "        Convert columns with nested JSON fields into multiple columns for each key/value pair\n",
    "        Default will return dataframe with old and new columns concatenated\n",
    "    \"\"\"\n",
    "    df.loc[df[col_name].isnull(), col_name] = '{}'\n",
    "    \n",
    "    df[col_name] = df[col_name].apply(ast.literal_eval)\n",
    "    \n",
    "    new_df = pd.json_normalize(df[col_name])\n",
    "    new_df.columns = [col_name + '_' + x for x in new_df.columns]\n",
    "        \n",
    "    if replace:\n",
    "        cols = [x for x in df.columns if x != col_name]\n",
    "        return pd.concat([df[cols], new_df], axis=1)\n",
    "    else:\n",
    "        return pd.concat([df, new_df], axis=1)"
   ]
  },
  {
   "cell_type": "code",
   "execution_count": 9,
   "id": "53f7c420",
   "metadata": {},
   "outputs": [],
   "source": [
    "def separate_column(df, col_name, separator):\n",
    "    \"\"\"\n",
    "        Remove prefixes unnecessary for analysis (usually base URLs)\n",
    "    \"\"\"\n",
    "    df[col_name] = df[col_name].str.split(separator).str[-1]\n",
    "    return df"
   ]
  },
  {
   "cell_type": "code",
   "execution_count": 10,
   "id": "145902ba",
   "metadata": {},
   "outputs": [],
   "source": [
    "def clean_column(df, col_name):\n",
    "    \"\"\"\n",
    "        Wrapper for previous cleaning functions\n",
    "    \"\"\"\n",
    "    if col_name == 'contained':\n",
    "        df = explode_dictionary(df, col_name)\n",
    "        if set(['contained_actorId', 'contained_verb']).issubset(df.columns):\n",
    "            df = separate_column(df, 'contained_actorId', '|')\n",
    "            df = separate_column(df, 'contained_verb', '/')\n",
    "        else:\n",
    "            df['contained_actorId'] = pd.Series(dtype=str)\n",
    "            df['contained_verb'] = pd.Series(dtype=str)\n",
    "            \n",
    "    elif col_name in ['verb']:\n",
    "        df = separate_column(df, col_name, '/')\n",
    "    \n",
    "    return df"
   ]
  },
  {
   "cell_type": "code",
   "execution_count": 11,
   "id": "288d5bd6",
   "metadata": {},
   "outputs": [],
   "source": [
    "def column_generator(file_list, col_name, col_type):\n",
    "    \"\"\"\n",
    "        Generator to process each json file separately and keep memory clear.\n",
    "    \"\"\"\n",
    "    for f in file_list:\n",
    "        # Import single column, empty if missing\n",
    "        try: \n",
    "            df = pd.read_csv(data_dir + f, \n",
    "                             usecols=['id', col_name],\n",
    "                             dtype={'id':str, col_name:col_type})\n",
    "        except:\n",
    "            df = pd.read_csv(data_dir + f,\n",
    "                             usecols = ['id'],\n",
    "                                 dtype={'id':str})\n",
    "            df[col_name] = pd.Series(dtype=col_type)\n",
    "\n",
    "        df['date'] = f.replace('.csv', '')\n",
    "        df = df[['date', 'id', col_name]]\n",
    "\n",
    "        # Formatting (overrides existing column)\n",
    "        df = clean_column(df, col_name)\n",
    "        \n",
    "        yield df"
   ]
  },
  {
   "cell_type": "code",
   "execution_count": 12,
   "id": "852a02b2",
   "metadata": {},
   "outputs": [],
   "source": [
    "data_dir = './data/'\n",
    "file_list = [file for file in os.listdir(data_dir) if file.endswith('.csv')]\n",
    "file_list = file_list[:5]"
   ]
  },
  {
   "cell_type": "code",
   "execution_count": 17,
   "id": "227173e2",
   "metadata": {},
   "outputs": [
    {
     "name": "stdout",
     "output_type": "stream",
     "text": [
      "21.35816670001077\n"
     ]
    }
   ],
   "source": [
    "t1 = time.perf_counter()\n",
    "data = [x for x in column_generator(file_list, 'contained', str)]\n",
    "print(time.perf_counter() - t1)"
   ]
  },
  {
   "cell_type": "code",
   "execution_count": 18,
   "id": "483a0219",
   "metadata": {},
   "outputs": [
    {
     "data": {
      "text/html": [
       "<div>\n",
       "<style scoped>\n",
       "    .dataframe tbody tr th:only-of-type {\n",
       "        vertical-align: middle;\n",
       "    }\n",
       "\n",
       "    .dataframe tbody tr th {\n",
       "        vertical-align: top;\n",
       "    }\n",
       "\n",
       "    .dataframe thead th {\n",
       "        text-align: right;\n",
       "    }\n",
       "</style>\n",
       "<table border=\"1\" class=\"dataframe\">\n",
       "  <thead>\n",
       "    <tr style=\"text-align: right;\">\n",
       "      <th></th>\n",
       "      <th>date</th>\n",
       "      <th>id</th>\n",
       "      <th>contained</th>\n",
       "      <th>contained_actorId</th>\n",
       "      <th>contained_verb</th>\n",
       "    </tr>\n",
       "  </thead>\n",
       "  <tbody>\n",
       "    <tr>\n",
       "      <th>0</th>\n",
       "      <td>2021-07-01</td>\n",
       "      <td>1960ccd0-e04d-11eb-a053-a183b5fba7a3</td>\n",
       "      <td>{}</td>\n",
       "      <td>NaN</td>\n",
       "      <td>NaN</td>\n",
       "    </tr>\n",
       "    <tr>\n",
       "      <th>1</th>\n",
       "      <td>2021-07-01</td>\n",
       "      <td>1b2c16f0-e04d-11eb-a053-a183b5fba7a3</td>\n",
       "      <td>{}</td>\n",
       "      <td>NaN</td>\n",
       "      <td>NaN</td>\n",
       "    </tr>\n",
       "    <tr>\n",
       "      <th>2</th>\n",
       "      <td>2021-07-01</td>\n",
       "      <td>1b4fcb90-e04d-11eb-a053-a183b5fba7a3</td>\n",
       "      <td>{}</td>\n",
       "      <td>NaN</td>\n",
       "      <td>NaN</td>\n",
       "    </tr>\n",
       "    <tr>\n",
       "      <th>3</th>\n",
       "      <td>2021-07-01</td>\n",
       "      <td>1b60bb80-e04d-11eb-a053-a183b5fba7a3</td>\n",
       "      <td>{}</td>\n",
       "      <td>NaN</td>\n",
       "      <td>NaN</td>\n",
       "    </tr>\n",
       "    <tr>\n",
       "      <th>4</th>\n",
       "      <td>2021-07-01</td>\n",
       "      <td>1e168cb0-e04d-11eb-a053-a183b5fba7a3</td>\n",
       "      <td>{}</td>\n",
       "      <td>NaN</td>\n",
       "      <td>NaN</td>\n",
       "    </tr>\n",
       "  </tbody>\n",
       "</table>\n",
       "</div>"
      ],
      "text/plain": [
       "         date                                    id contained  \\\n",
       "0  2021-07-01  1960ccd0-e04d-11eb-a053-a183b5fba7a3        {}   \n",
       "1  2021-07-01  1b2c16f0-e04d-11eb-a053-a183b5fba7a3        {}   \n",
       "2  2021-07-01  1b4fcb90-e04d-11eb-a053-a183b5fba7a3        {}   \n",
       "3  2021-07-01  1b60bb80-e04d-11eb-a053-a183b5fba7a3        {}   \n",
       "4  2021-07-01  1e168cb0-e04d-11eb-a053-a183b5fba7a3        {}   \n",
       "\n",
       "  contained_actorId contained_verb  \n",
       "0               NaN            NaN  \n",
       "1               NaN            NaN  \n",
       "2               NaN            NaN  \n",
       "3               NaN            NaN  \n",
       "4               NaN            NaN  "
      ]
     },
     "execution_count": 18,
     "metadata": {},
     "output_type": "execute_result"
    }
   ],
   "source": [
    "df = pd.concat(data).reset_index(drop=True)\n",
    "df.head()"
   ]
  },
  {
   "cell_type": "code",
   "execution_count": null,
   "id": "914238b2",
   "metadata": {},
   "outputs": [],
   "source": []
  }
 ],
 "metadata": {
  "kernelspec": {
   "display_name": "Python 3",
   "language": "python",
   "name": "python3"
  },
  "language_info": {
   "codemirror_mode": {
    "name": "ipython",
    "version": 3
   },
   "file_extension": ".py",
   "mimetype": "text/x-python",
   "name": "python",
   "nbconvert_exporter": "python",
   "pygments_lexer": "ipython3",
   "version": "3.7.10"
  }
 },
 "nbformat": 4,
 "nbformat_minor": 5
}
